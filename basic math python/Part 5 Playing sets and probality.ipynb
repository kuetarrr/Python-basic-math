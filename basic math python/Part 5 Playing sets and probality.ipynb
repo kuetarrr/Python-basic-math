{
 "cells": [
  {
   "cell_type": "markdown",
   "metadata": {},
   "source": [
    "# Part 5 Playing With Sets and Probality"
   ]
  },
  {
   "cell_type": "code",
   "execution_count": 2,
   "metadata": {},
   "outputs": [
    {
     "name": "stdout",
     "output_type": "stream",
     "text": [
      "Lenght: 15.0 cm Time Period: 0.777 s\n",
      "Lenght: 18.0 cm Time Period: 0.852 s\n",
      "Lenght: 21.0 cm Time Period: 0.920 s\n",
      "Lenght: 22.5 cm Time Period: 0.952 s\n",
      "Lenght: 25.0 cm Time Period: 1.004 s\n"
     ]
    }
   ],
   "source": [
    "# Applying a Formula to multiple sets of variables\n",
    "\n",
    "from sympy import FiniteSet, pi\n",
    "\n",
    "def time_period(lenght):\n",
    "    g = 9.8\n",
    "    T = 2*pi*(lenght/g)**0.5\n",
    "    return T\n",
    "\n",
    "if __name__ == '__main__':\n",
    "    L = FiniteSet(15,18,21,22.5,25)\n",
    "    for l in L:\n",
    "        t = time_period(l/100)\n",
    "        print('Lenght: {0} cm Time Period: {1:.3f} s'.format(float(l), float(t)))"
   ]
  },
  {
   "cell_type": "code",
   "execution_count": 3,
   "metadata": {},
   "outputs": [
    {
     "name": "stdout",
     "output_type": "stream",
     "text": [
      "  Length(cm)   Gravity(m/s^2) Time Period(s) \n",
      "     15.0           9.78           0.778     \n",
      "     18.0           9.78           0.852     \n",
      "     15.0            9.8           0.777     \n",
      "     21.0           9.78           0.921     \n",
      "     18.0            9.8           0.852     \n",
      "     15.0           9.83           0.776     \n",
      "     22.5           9.78           0.953     \n",
      "     21.0            9.8           0.920     \n",
      "     18.0           9.83           0.850     \n",
      "     25.0           9.78           1.005     \n",
      "     22.5            9.8           0.952     \n",
      "     21.0           9.83           0.918     \n",
      "     25.0            9.8           1.004     \n",
      "     22.5           9.83           0.951     \n",
      "     25.0           9.83           1.002     \n"
     ]
    }
   ],
   "source": [
    "# Different Gravity, Different Results\n",
    "\n",
    "from sympy import FiniteSet, pi\n",
    "\n",
    "def time_period(lenght, g):\n",
    "    \n",
    "    T = 2*pi*(lenght/g)**0.5\n",
    "    return T\n",
    "\n",
    "if __name__ == '__main__':\n",
    "    \n",
    "    L = FiniteSet(15,18,21,22.5,25)\n",
    "    g_values = FiniteSet(9.8,9.78,9.83)\n",
    "    print('{0:^15}{1:^15}{2:^15}'.format('Length(cm)', 'Gravity(m/s^2)', 'Time Period(s)'))\n",
    "    for elem in L*g_values:\n",
    "        l = elem[0]\n",
    "        g = elem[1]\n",
    "        t = time_period(l/100, g)\n",
    "        \n",
    "        print('{0:^15}{1:^15}{2:^15.3f}'.format(float(l), float(g), float(t)))\n",
    "        \n",
    "        "
   ]
  },
  {
   "cell_type": "code",
   "execution_count": 5,
   "metadata": {},
   "outputs": [
    {
     "ename": "NameError",
     "evalue": "name 's' is not defined",
     "output_type": "error",
     "traceback": [
      "\u001b[1;31m---------------------------------------------------------------------------\u001b[0m",
      "\u001b[1;31mNameError\u001b[0m                                 Traceback (most recent call last)",
      "\u001b[1;32m<ipython-input-5-4156a03d1248>\u001b[0m in \u001b[0;36m<module>\u001b[1;34m\u001b[0m\n\u001b[0;32m     16\u001b[0m     \u001b[0mspace\u001b[0m \u001b[1;33m=\u001b[0m \u001b[0mFiniteSet\u001b[0m\u001b[1;33m(\u001b[0m\u001b[1;33m*\u001b[0m\u001b[0mrange\u001b[0m\u001b[1;33m(\u001b[0m\u001b[1;36m1\u001b[0m\u001b[1;33m,\u001b[0m \u001b[1;36m21\u001b[0m\u001b[1;33m)\u001b[0m\u001b[1;33m)\u001b[0m\u001b[1;33m\u001b[0m\u001b[1;33m\u001b[0m\u001b[0m\n\u001b[0;32m     17\u001b[0m     \u001b[0mprimes\u001b[0m \u001b[1;33m=\u001b[0m \u001b[1;33m[\u001b[0m\u001b[1;33m]\u001b[0m\u001b[1;33m\u001b[0m\u001b[1;33m\u001b[0m\u001b[0m\n\u001b[1;32m---> 18\u001b[1;33m     \u001b[1;32mfor\u001b[0m \u001b[0mnum\u001b[0m \u001b[1;32min\u001b[0m \u001b[0ms\u001b[0m\u001b[1;33m:\u001b[0m\u001b[1;33m\u001b[0m\u001b[1;33m\u001b[0m\u001b[0m\n\u001b[0m\u001b[0;32m     19\u001b[0m         \u001b[1;32mif\u001b[0m \u001b[0mcheck_prime\u001b[0m\u001b[1;33m(\u001b[0m\u001b[0mnum\u001b[0m\u001b[1;33m)\u001b[0m\u001b[1;33m:\u001b[0m\u001b[1;33m\u001b[0m\u001b[1;33m\u001b[0m\u001b[0m\n\u001b[0;32m     20\u001b[0m             \u001b[0mprimes\u001b[0m\u001b[1;33m.\u001b[0m\u001b[0mappend\u001b[0m\u001b[1;33m(\u001b[0m\u001b[0mnum\u001b[0m\u001b[1;33m)\u001b[0m\u001b[1;33m\u001b[0m\u001b[1;33m\u001b[0m\u001b[0m\n",
      "\u001b[1;31mNameError\u001b[0m: name 's' is not defined"
     ]
    }
   ],
   "source": [
    "# Probability\n",
    "\n",
    "def probability(space, event):\n",
    "    return len(event)/len(space)\n",
    "\n",
    "def check_prime(number):\n",
    "    if number !=1:\n",
    "        for factor in range(2, number):\n",
    "            if number % factor == 0:\n",
    "                return False\n",
    "    else:\n",
    "        return False\n",
    "    return True\n",
    "\n",
    "if __name__ == '__main__':\n",
    "    space = FiniteSet(*range(1, 21))\n",
    "    primes = []\n",
    "    for num in s:\n",
    "        if check_prime(num):\n",
    "            primes.append(num)\n",
    "    event = FiniteSet(*primes)\n",
    "    p = probability(space, event)\n",
    "    \n",
    "    print('Sample space: {0}'.format(space))\n",
    "    print('Event: {0}'.format(event))\n",
    "    print('Probability of rolling a prime: {0:.5f}'.format(p))"
   ]
  },
  {
   "cell_type": "code",
   "execution_count": 16,
   "metadata": {},
   "outputs": [
    {
     "name": "stdout",
     "output_type": "stream",
     "text": [
      "Rolled: 2\n",
      "Rolled: 1\n",
      "Rolled: 5\n",
      "Rolled: 6\n",
      "Rolled: 5\n",
      "Rolled: 1\n",
      "Score of 0 reached in 1 (20, 6)\n"
     ]
    }
   ],
   "source": [
    "'''\n",
    "Roll a die until the total score 20\n",
    "'''\n",
    "\n",
    "import matplotlib.pyplot as plt\n",
    "import random\n",
    "\n",
    "target_score = 20\n",
    "def roll():\n",
    "    return random.randint(1, 6)\n",
    "\n",
    "if __name__ == '__main__':\n",
    "    score = 0\n",
    "    num_rolls = 0\n",
    "    while score < target_score:\n",
    "        die_roll = roll()\n",
    "        num_rolls += 1\n",
    "        print('Rolled: {0}'.format(die_roll))\n",
    "        score += die_roll\n",
    "    print(f'Score of {0} reached in {1}',(score, num_rolls))"
   ]
  },
  {
   "cell_type": "code",
   "execution_count": 14,
   "metadata": {},
   "outputs": [
    {
     "name": "stdout",
     "output_type": "stream",
     "text": [
      "Enter the target score: 3\n",
      "Enter the maximum number of rolls allowed: 5\n",
      "Probability: 0.00000 1.0\n"
     ]
    }
   ],
   "source": [
    "# Is the Target Score Possible?\n",
    "\n",
    "from sympy import FiniteSet\n",
    "import random\n",
    "\n",
    "def find_prob(targe_score, max_rolls):\n",
    "    \n",
    "    die_sides = FiniteSet(1,2,3,4,5,6)\n",
    "    # Sample space\n",
    "    s = die_sides**max_rolls#1\n",
    "    # Find the event set\n",
    "    if max_rolls > 1:\n",
    "        success_rolls = []\n",
    "        for elem in s:#2\n",
    "            if sum(elem) >= target_score:\n",
    "                success_rolls.append(elem)\n",
    "    else:\n",
    "        if target_score > 6:\n",
    "            success_rolls = []#3\n",
    "        else:\n",
    "            success_rolls = []\n",
    "            for roll in die_sides:\n",
    "                if roll >= target_score:#4\n",
    "                    success_rolls.append(roll)\n",
    "    e = FiniteSet(*success_rolls)#5\n",
    "    # Caculate the probability of reaching target score\n",
    "    return len(e)/len(s)\n",
    "\n",
    "if __name__ == \"__main__\":\n",
    "    \n",
    "    target_score = int(input('Enter the target score: '))\n",
    "    max_rolls = int(input('Enter the maximum number of rolls allowed: '))\n",
    "    p = find_prob(target_score, max_rolls)\n",
    "    print(f'Probability: {0:.5f}',(p))\n",
    "    \n",
    "            "
   ]
  },
  {
   "cell_type": "code",
   "execution_count": 12,
   "metadata": {},
   "outputs": [],
   "source": [
    "'''\n",
    "Simulate a fictional ATM that dispenses dollar \n",
    "bills of various denominations with varying probability\n",
    "'''\n",
    "\n",
    "import random\n",
    "\n",
    "def get_index(probability):\n",
    "    c_probability = 0\n",
    "    sum_probability = []#1\n",
    "    for p in probability:\n",
    "        c_probability += p\n",
    "        sum_probability.append(c_probability)\n",
    "    r = random.random()#2\n",
    "    for index, sp in enumerate(sum_probability):\n",
    "        if r <= sp:#3\n",
    "            return index\n",
    "    return len(probability)-1#4\n",
    "\n",
    "def dispense():\n",
    "    \n",
    "    dollar_bills = [5,10,20,50]\n",
    "    probability = [1/6,1/6,1/3,2/3]\n",
    "    bill_index = get_index(probability)\n",
    "    return dollar_bills[bill_index]\n"
   ]
  },
  {
   "cell_type": "markdown",
   "metadata": {},
   "source": [
    "# Progamming Challenges"
   ]
  },
  {
   "cell_type": "markdown",
   "metadata": {},
   "source": [
    "## 1: Using Venn Diagrams to Visualize Relationships Between Sets"
   ]
  },
  {
   "cell_type": "code",
   "execution_count": 4,
   "metadata": {},
   "outputs": [
    {
     "data": {
      "image/png": "[encoded data removed]",
      "text/plain": [
       "<Figure size 432x288 with 1 Axes>"
      ]
     },
     "metadata": {},
     "output_type": "display_data"
    },
    {
     "name": "stdout",
     "output_type": "stream",
     "text": [
      "A venn diagram showing the numbers of students who love to play football and the number who love play other sports\n"
     ]
    }
   ],
   "source": [
    "'''\n",
    "Venn_sports\n",
    "Is football the favorite sportt in my class too?\n",
    "Let's find using a venn diagram\n",
    "'''\n",
    "\n",
    "from sympy import FiniteSet\n",
    "from matplotlib_venn import venn2\n",
    "import matplotlib.pyplot as plt\n",
    "import csv\n",
    "\n",
    "def read_csv(filename):\n",
    "    \n",
    "    football = []\n",
    "    others  = []\n",
    "    \n",
    "    with open(filename) as f:\n",
    "        reader = csv.reader(f)\n",
    "        next(reader)\n",
    "        for row in reader:\n",
    "            if row[1] == '1':\n",
    "                football.append(row[0])\n",
    "            if row[2] == '1':\n",
    "                others.append(row[0])\n",
    "    return football, others\n",
    "\n",
    "def draw_venn(f, o):\n",
    "    venn2(subsets=(f, o), set_labels=('Football', 'Others'))\n",
    "    plt.show()\n",
    "    \n",
    "if __name__ == '__main__':\n",
    "    football, others = read_csv('sports.csv')\n",
    "    f = FiniteSet(*football)\n",
    "    o = FiniteSet(*others)\n",
    "    draw_venn(f, o)\n",
    "    print('A venn diagram showing the numbers of students who love to play football and the number who love play other sports')"
   ]
  },
  {
   "cell_type": "markdown",
   "metadata": {},
   "source": [
    "## 2: Law of Large Numbers"
   ]
  },
  {
   "cell_type": "code",
   "execution_count": 16,
   "metadata": {},
   "outputs": [
    {
     "name": "stdout",
     "output_type": "stream",
     "text": [
      "Expected value: 3.5\n",
      "Trials: 100 Trial average 3.44\n",
      "Trials: 1000 Trial average 3.512\n",
      "Trials: 10000 Trial average 3.4904\n",
      "Trials: 100000 Trial average 3.4963\n",
      "Trials: 500000 Trial average 3.501296\n"
     ]
    }
   ],
   "source": [
    "'''\n",
    "Verify the law of large numbers using a six_sided die as an example\n",
    "'''\n",
    "\n",
    "import random\n",
    "\n",
    "def roll(num_trials):\n",
    "    rolls = []\n",
    "    for t in range(num_trials):\n",
    "        rolls.append(random.randint(1,6))\n",
    "    return sum(rolls)/num_trials\n",
    "\n",
    "if __name__ == '__main__':\n",
    "    expected_value = 3.5\n",
    "    print(f'Expected value: {expected_value}')\n",
    "    for trial in [100,1000,10000,100000,500000]:\n",
    "        avg = roll(trial)\n",
    "        print(f'Trials: {trial} Trial average {avg}')"
   ]
  },
  {
   "cell_type": "markdown",
   "metadata": {},
   "source": [
    "## 3: How Many Tosses Before You Run Out of Money?"
   ]
  },
  {
   "cell_type": "code",
   "execution_count": 21,
   "metadata": {},
   "outputs": [
    {
     "name": "stdout",
     "output_type": "stream",
     "text": [
      "Enter your starting amount: 2\n",
      "Heads! Current amount: 3.0\n",
      "Tails! Current amount: 1.5\n",
      "Heads! Current amount: 2.5\n",
      "Heads! Current amount: 3.5\n",
      "Tails! Current amount: 2.0\n",
      "Tails! Current amount: 0.5\n",
      "Heads! Current amount: 1.5\n",
      "Tails! Current amount: 0.0\n",
      "Game Over :( Current amount: 0.0 Coin tosses: 8)\n"
     ]
    }
   ],
   "source": [
    "'''\n",
    "Game_Tosses\n",
    "\n",
    "A player wins 1$ for every head and loses 1.5$ for every tail.\n",
    "The game is over when the player's balance reaches 0$\n",
    "'''\n",
    "\n",
    "import random\n",
    "\n",
    "def play(start_amount):\n",
    "    win_amount = 1\n",
    "    loss_amount = 1.5\n",
    "    \n",
    "    cur_amount = start_amount\n",
    "    tosses = 0\n",
    "    \n",
    "    while cur_amount > 0:\n",
    "        tosses += 1\n",
    "        toss = random.randint(0,1)\n",
    "        if toss == 0:\n",
    "            cur_amount += win_amount\n",
    "            print(f'Heads! Current amount: {cur_amount}')\n",
    "        else:\n",
    "            cur_amount -= loss_amount\n",
    "            print(f'Tails! Current amount: {cur_amount}')\n",
    "    print(f'Game Over :( Current amount: {cur_amount} Coin tosses: {tosses})')\n",
    "    \n",
    "if __name__ == '__main__':\n",
    "    start_amount = float(input('Enter your starting amount: '))\n",
    "    play(start_amount)"
   ]
  },
  {
   "cell_type": "markdown",
   "metadata": {},
   "source": [
    "## 4: Shuffing a Deck of Cards\n"
   ]
  },
  {
   "cell_type": "code",
   "execution_count": 51,
   "metadata": {},
   "outputs": [
    {
     "name": "stdout",
     "output_type": "stream",
     "text": [
      "7 of Spades\n",
      "10 of Spades\n",
      "4 of Hearts\n",
      "Jack of Diamonds\n",
      "3 of Hearts\n",
      "King of Clubs\n",
      "5 of Diamonds\n",
      "4 of Spades\n",
      "5 of Spades\n",
      "3 of Clubs\n",
      "King of Hearts\n",
      "10 of Hearts\n",
      "8 of Hearts\n",
      "Ace of Spades\n",
      "2 of Hearts\n",
      "8 of Spades\n",
      "10 of Diamonds\n",
      "3 of Diamonds\n",
      "7 of Hearts\n",
      "Jack of Spades\n",
      "King of Diamonds\n",
      "6 of Hearts\n",
      "Ace of Diamonds\n",
      "8 of Diamonds\n",
      "Ace of Hearts\n",
      "2 of Spades\n",
      "8 of Clubs\n",
      "9 of Spades\n",
      "9 of Hearts\n",
      "4 of Diamonds\n",
      "6 of Diamonds\n",
      "Queen of Clubs\n",
      "6 of Clubs\n",
      "6 of Spades\n",
      "Queen of Spades\n",
      "10 of Clubs\n",
      "5 of Clubs\n",
      "2 of Diamonds\n",
      "King of Spades\n",
      "7 of Clubs\n",
      "3 of Spades\n",
      "5 of Hearts\n",
      "Jack of Clubs\n",
      "Queen of Diamonds\n",
      "Ace of Clubs\n",
      "9 of Diamonds\n",
      "9 of Clubs\n",
      "2 of Clubs\n",
      "Jack of Hearts\n",
      "Queen of Hearts\n",
      "7 of Diamonds\n",
      "4 of Clubs\n"
     ]
    }
   ],
   "source": [
    "'''\n",
    "shuffel enhanced\n",
    "Shuffel a deck of 52 card\n",
    "'''\n",
    "import random\n",
    "\n",
    "class Card:\n",
    "    \n",
    "    def __init__(self, suit, rank):\n",
    "        self.suit = suit\n",
    "        self.rank = rank\n",
    "    \n",
    "def initialize_deck():\n",
    "    suits = ['Clubs', 'Diamonds', 'Hearts', 'Spades']\n",
    "    ranks = ['Ace', '2', '3', '4', '5', '6', '7', '8', '9', '10', 'Jack', 'Queen', 'King']\n",
    "    cards = []\n",
    "    for suit in suits:\n",
    "        for rank in ranks:\n",
    "            card = Card(suit, rank)\n",
    "            cards.append(card)\n",
    "    return cards\n",
    "    \n",
    "def shuffel_and_print(cards):\n",
    "    random.shuffle(cards)\n",
    "    for card in cards:\n",
    "        print(f'{card.rank} of {card.suit}')\n",
    "    \n",
    "if __name__ == '__main__':\n",
    "    cards = initialize_deck()\n",
    "    shuffel_and_print(cards)\n",
    "        \n",
    "                "
   ]
  },
  {
   "cell_type": "markdown",
   "metadata": {},
   "source": [
    "## 5: Estimating the Area of a Circle"
   ]
  },
  {
   "cell_type": "code",
   "execution_count": 56,
   "metadata": {},
   "outputs": [
    {
     "name": "stdout",
     "output_type": "stream",
     "text": [
      "Radius: 2\n",
      "Area: 12.566370614359172 Estimated (1000): 12.72 \n",
      "Area: 12.566370614359172 Estimated (100000): 12.53904 \n",
      "Area: 12.566370614359172 Estimated (1000000): 12.566032 \n"
     ]
    }
   ],
   "source": [
    "'''\n",
    "Estimate the area of a circle\n",
    "'''\n",
    "import math\n",
    "import random\n",
    "\n",
    "def estimate(radius, total_points):\n",
    "    center = (radius, radius)\n",
    "    \n",
    "    in_circle = 0\n",
    "    for i in range(total_points):\n",
    "        x = random.uniform(0, 2*radius)\n",
    "        y = random.uniform(0, 2*radius)\n",
    "        p = (x, y)\n",
    "        # distance of the point created from circle's center\n",
    "        d = math.sqrt((p[0]-center[0])**2 + (p[1]-center[1])**2)\n",
    "        if d <= radius:\n",
    "            in_circle += 1\n",
    "    area_of_square = (2*radius)**2\n",
    "    return (in_circle/total_points)*area_of_square\n",
    "\n",
    "if __name__ == '__main__':\n",
    "    radius = float(input('Radius: '))\n",
    "    area_of_circle = math.pi*radius**2\n",
    "    for points in [10**3, 10**5, 10**6]:\n",
    "        print(f'Area: {area_of_circle} Estimated ({points}): {estimate(radius, points)} ')\n",
    "        \n"
   ]
  },
  {
   "cell_type": "code",
   "execution_count": 55,
   "metadata": {},
   "outputs": [
    {
     "name": "stdout",
     "output_type": "stream",
     "text": [
      "Known value: 3.141592653589793 Estimated (1000): 3.16 \n",
      "Known value: 3.141592653589793 Estimated (100000): 3.1478 \n",
      "Known value: 3.141592653589793 Estimated (1000000): 3.142008 \n"
     ]
    }
   ],
   "source": [
    "'''\n",
    "Estimate the value of pi\n",
    "'''\n",
    "import math\n",
    "import random\n",
    "\n",
    "def estimate(total_points):\n",
    "    radius = 1\n",
    "    center = (radius, radius)\n",
    "    \n",
    "    in_circle = 0\n",
    "    for i in range(total_points):\n",
    "        x = random.uniform(0, 2*radius)\n",
    "        y = random.uniform(0, 2*radius)\n",
    "        p = (x, y)\n",
    "        # distance of the point created from circle's center\n",
    "        d = math.sqrt((p[0]-center[0])**2 + (p[1]-center[1])**2)\n",
    "        if d <= radius:\n",
    "            in_circle += 1\n",
    "    return (in_circle/total_points)*4\n",
    "\n",
    "if __name__ == '__main__':\n",
    "    for points in [10**3, 10**5, 10**6]:\n",
    "        print(f'Known value: {math.pi} Estimated ({points}): {estimate(points)} ')\n",
    "        "
   ]
  },
  {
   "cell_type": "code",
   "execution_count": null,
   "metadata": {},
   "outputs": [],
   "source": []
  }
 ],
 "metadata": {
  "kernelspec": {
   "display_name": "Python 3",
   "language": "python",
   "name": "python3"
  },
  "language_info": {
   "codemirror_mode": {
    "name": "ipython",
    "version": 3
   },
   "file_extension": ".py",
   "mimetype": "text/x-python",
   "name": "python",
   "nbconvert_exporter": "python",
   "pygments_lexer": "ipython3",
   "version": "3.8.5"
  }
 },
 "nbformat": 4,
 "nbformat_minor": 4
}
