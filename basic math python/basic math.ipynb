{
 "cells": [
  {
   "cell_type": "markdown",
   "metadata": {},
   "source": [
    "# part 1 \n",
    "## basic Mathematical operations"
   ]
  },
  {
   "cell_type": "markdown",
   "metadata": {},
   "source": []
  },
  {
   "cell_type": "code",
   "execution_count": 4,
   "metadata": {},
   "outputs": [
    {
     "name": "stdout",
     "output_type": "stream",
     "text": [
      "3\n",
      "4.5\n",
      "1.5\n",
      "55\n",
      "3.9\n"
     ]
    }
   ],
   "source": [
    "# penambahan dan pengurangan\n",
    "print(1 + 2)\n",
    "print(1+ 3.5)\n",
    "print(-1 + 2.5)\n",
    "print(100 - 45)\n",
    "print(-1.1 + 5)"
   ]
  },
  {
   "cell_type": "code",
   "execution_count": 5,
   "metadata": {},
   "outputs": [
    {
     "name": "stdout",
     "output_type": "stream",
     "text": [
      "6\n",
      "5.25\n"
     ]
    }
   ],
   "source": [
    "#  perkalian\n",
    "print(3 * 2)\n",
    "print(3.5 * 1.5)"
   ]
  },
  {
   "cell_type": "code",
   "execution_count": 9,
   "metadata": {},
   "outputs": [
    {
     "name": "stdout",
     "output_type": "stream",
     "text": [
      "1.5\n",
      "-2.0\n",
      "1\n",
      "1\n"
     ]
    }
   ],
   "source": [
    "# pembagiaan\n",
    "print(3 / 2)\n",
    "print(-4 / 2)\n",
    "# pembagian langsung di bulat kan\n",
    "print(3 // 2)\n",
    "# modulo hasil bagi\n",
    "print(9 % 2)"
   ]
  },
  {
   "cell_type": "code",
   "execution_count": 11,
   "metadata": {},
   "outputs": [
    {
     "name": "stdout",
     "output_type": "stream",
     "text": [
      "4\n",
      "1024\n",
      "1\n",
      "2.0\n"
     ]
    }
   ],
   "source": [
    "# perpangkatan\n",
    "print(2 ** 2)\n",
    "print(2 ** 10)\n",
    "print(1 ** 10)\n",
    "print(8 ** (1/3))"
   ]
  },
  {
   "cell_type": "code",
   "execution_count": 12,
   "metadata": {},
   "outputs": [
    {
     "name": "stdout",
     "output_type": "stream",
     "text": [
      "30\n",
      "50\n"
     ]
    }
   ],
   "source": [
    "# PEMDAS -> tanda kurung, perpangkatan, perkalian, pembagian, pertambahan, pengurangan\n",
    "print(5 + 5 * 5)\n",
    "print((5+5) * 5)"
   ]
  },
  {
   "cell_type": "markdown",
   "metadata": {},
   "source": [
    "## Labels : Attaching Names to numbers"
   ]
  },
  {
   "cell_type": "code",
   "execution_count": 20,
   "metadata": {},
   "outputs": [
    {
     "name": "stdout",
     "output_type": "stream",
     "text": [
      "4\n",
      "6\n",
      "11\n",
      "11.4\n",
      "<class 'int'>\n",
      "<class 'float'>\n"
     ]
    },
    {
     "data": {
      "text/plain": [
       "list"
      ]
     },
     "execution_count": 20,
     "metadata": {},
     "output_type": "execute_result"
    }
   ],
   "source": [
    "a = 3\n",
    "b = 4\n",
    "c = 0.4\n",
    "print(a + 1)\n",
    "print(b + 2)\n",
    "print(a + b * 2)\n",
    "print(a + b + c + (2**2))\n",
    "print(type(a))\n",
    "print(type(c))\n",
    "type([a, b, c])"
   ]
  },
  {
   "cell_type": "code",
   "execution_count": 21,
   "metadata": {},
   "outputs": [
    {
     "name": "stdout",
     "output_type": "stream",
     "text": [
      "3/4\n"
     ]
    }
   ],
   "source": [
    "# Working with fractions ( pecahan)\n",
    "from fractions import Fraction as pec\n",
    "f = pec(3,4) # 3 = penyebut , 4 = pembilang\n",
    "print(f)\n"
   ]
  },
  {
   "cell_type": "code",
   "execution_count": 25,
   "metadata": {},
   "outputs": [
    {
     "name": "stdout",
     "output_type": "stream",
     "text": [
      "(1+3j)\n",
      "(5+3j)\n",
      "(6+6j)\n",
      "(-4+0j)\n",
      "(0.4117647058823529+0.35294117647058826j)\n"
     ]
    },
    {
     "data": {
      "text/plain": [
       "complex"
      ]
     },
     "execution_count": 25,
     "metadata": {},
     "output_type": "execute_result"
    }
   ],
   "source": [
    "#  complex numbers ( bilangan complex)\n",
    "#  ga bisa untuk % dan //\n",
    "a = 2 + 3J - 1\n",
    "b = 3 + 3j + 2\n",
    "\n",
    "print(a)\n",
    "print(b)\n",
    "print(a + b)\n",
    "print(a - b)\n",
    "print(a / b)\n",
    "type(a)"
   ]
  },
  {
   "cell_type": "code",
   "execution_count": 29,
   "metadata": {},
   "outputs": [
    {
     "name": "stdout",
     "output_type": "stream",
     "text": [
      "2.0\n",
      "9.0\n",
      "(2-9j)\n"
     ]
    }
   ],
   "source": [
    "# bilangan real dan imajiner\n",
    "z = 2 + 9j\n",
    "print(z.real)\n",
    "print(z.imag)\n",
    "# mengkonjuksikan\n",
    "print(z.conjugate())"
   ]
  },
  {
   "cell_type": "code",
   "execution_count": 32,
   "metadata": {},
   "outputs": [
    {
     "name": "stdout",
     "output_type": "stream",
     "text": [
      "9.219544457292887\n",
      "9.219544457292887\n"
     ]
    }
   ],
   "source": [
    "# The mafnitude of a complex\n",
    "print((z.real ** 2 + z.imag ** 2) ** 0.5)\n",
    "# function absolutes\n",
    "print(abs(z))"
   ]
  },
  {
   "cell_type": "markdown",
   "metadata": {},
   "source": [
    "## Getting user Input\n"
   ]
  },
  {
   "cell_type": "code",
   "execution_count": 35,
   "metadata": {},
   "outputs": [
    {
     "name": "stdout",
     "output_type": "stream",
     "text": [
      "3/4\n"
     ]
    }
   ],
   "source": [
    "a = input()\n",
    "print(a)"
   ]
  },
  {
   "cell_type": "code",
   "execution_count": 37,
   "metadata": {},
   "outputs": [
    {
     "name": "stdout",
     "output_type": "stream",
     "text": [
      "You entered an invalid number\n"
     ]
    }
   ],
   "source": [
    "try:\n",
    "    a = float(input(\"enter a nmber: \"))\n",
    "except ValueError:\n",
    "    print('You entered an invalid number')\n"
   ]
  },
  {
   "cell_type": "markdown",
   "metadata": {},
   "source": [
    "## Writing programs that do the math for you"
   ]
  },
  {
   "cell_type": "code",
   "execution_count": 46,
   "metadata": {},
   "outputs": [
    {
     "name": "stdout",
     "output_type": "stream",
     "text": [
      "True\n",
      "False\n"
     ]
    }
   ],
   "source": [
    "#  Calculating the factors of an integer\n",
    "def is_factor(a,b):\n",
    "    if b % a == 0:\n",
    "        return True\n",
    "    else:\n",
    "        return False\n",
    "\n",
    "print(is_factor(4, 1024))\n",
    "print(is_factor(3, 500))"
   ]
  },
  {
   "cell_type": "code",
   "execution_count": 49,
   "metadata": {},
   "outputs": [
    {
     "name": "stdout",
     "output_type": "stream",
     "text": [
      "2\n",
      "4\n",
      "6\n",
      "8\n",
      "10\n",
      "12\n",
      "14\n",
      "16\n",
      "18\n",
      "20\n"
     ]
    }
   ],
   "source": [
    "for i in range(2,21,2):\n",
    "    print(i)"
   ]
  },
  {
   "cell_type": "code",
   "execution_count": 16,
   "metadata": {},
   "outputs": [
    {
     "name": "stdout",
     "output_type": "stream",
     "text": [
      "Your Number Please: 0.2\n",
      "Please enter a positive integer\n"
     ]
    }
   ],
   "source": [
    "# Find the factors of an integer\n",
    "\n",
    "def factors(b):\n",
    "    \n",
    "    for i in range(1, b+1):\n",
    "        if b %  i == 0 :\n",
    "            print(i)\n",
    "if __name__ == '__main__':\n",
    "    b = input('Your Number Please: ') \n",
    "    b = float(b)\n",
    "    \n",
    "    if b > 0 and b.is_integer():\n",
    "        factors(int(b))\n",
    "    else:\n",
    "        print('Please enter a positive integer')"
   ]
  },
  {
   "cell_type": "code",
   "execution_count": 30,
   "metadata": {},
   "outputs": [
    {
     "name": "stdout",
     "output_type": "stream",
     "text": [
      "Enter a Number: 3\n",
      "3.0 x 1 = 3.0\n",
      "3.0 x 2 = 6.0\n",
      "3.0 x 3 = 9.0\n",
      "3.0 x 4 = 12.0\n",
      "3.0 x 5 = 15.0\n",
      "3.0 x 6 = 18.0\n",
      "3.0 x 7 = 21.0\n",
      "3.0 x 8 = 24.0\n",
      "3.0 x 9 = 27.0\n",
      "3.0 x 10 = 30.0\n"
     ]
    }
   ],
   "source": [
    "# Multiplication  table printer\n",
    "\n",
    "def multi_table(a):\n",
    "    \n",
    "    for i in range(1, 11):\n",
    "        print('{0} x {1} = {2}'.format(a, i, a*i))\n",
    "\n",
    "if __name__ == '__main__':\n",
    "    a = input('Enter a Number: ')\n",
    "    multi_table(float(a))"
   ]
  },
  {
   "cell_type": "code",
   "execution_count": 76,
   "metadata": {},
   "outputs": [
    {
     "name": "stdout",
     "output_type": "stream",
     "text": [
      "1.25456\n",
      "1.25\n",
      "1.256\n",
      "1.00000\n"
     ]
    }
   ],
   "source": [
    "# membulatkan angka di belakang koma \n",
    "print('{0}'.format(1.25456))\n",
    "print('{0:.2f}'.format(1.25456))\n",
    "print('{0:.3f}'.format(1.25556))\n",
    "print('{0:.5f}'.format(1))"
   ]
  },
  {
   "cell_type": "markdown",
   "metadata": {},
   "source": [
    "## Converting Units of Measurement"
   ]
  },
  {
   "cell_type": "code",
   "execution_count": 102,
   "metadata": {},
   "outputs": [
    {
     "name": "stdout",
     "output_type": "stream",
     "text": [
      "0.6476999999999999 meter\n"
     ]
    }
   ],
   "source": [
    "# 1 inci = 2.54 cm -> berapa meter dari 25.5 inci?\n",
    "print(f'{(25.5 * 2.54) / 100} meter')"
   ]
  },
  {
   "cell_type": "code",
   "execution_count": 5,
   "metadata": {},
   "outputs": [
    {
     "name": "stdout",
     "output_type": "stream",
     "text": [
      "1. Kilometers to miles\n",
      "2. Miles to Kilometers\n",
      "Distance in miles: 117.46426351771287\n"
     ]
    }
   ],
   "source": [
    "# Unit converter: Miles and kilometer\n",
    "\n",
    "def print_menu():\n",
    "    print('1. Kilometers to miles')\n",
    "    print('2. Miles to Kilometers')\n",
    "\n",
    "def km_miles():\n",
    "    km = float(input('Enter distance in kilometers: '))\n",
    "    miles = km / 1.609\n",
    "    \n",
    "    print('Distance in miles: {0}'.format(miles))\n",
    "\n",
    "def miles_km():\n",
    "    miles = float(input('Enter distance in miles: '))\n",
    "    km = miles * 1.609\n",
    "    \n",
    "    print('Distance in kilometers:{0}'.format(km))\n",
    "\n",
    "if __name__ == '__main__':\n",
    "    print_menu()\n",
    "    choice = input('Which converdion would you like to do:? ')\n",
    "    if choice == '1':\n",
    "        km_miles()\n",
    "        \n",
    "    if choice == '2':\n",
    "        miles_km()"
   ]
  },
  {
   "cell_type": "code",
   "execution_count": 6,
   "metadata": {},
   "outputs": [
    {
     "name": "stdout",
     "output_type": "stream",
     "text": [
      "-411\n"
     ]
    }
   ],
   "source": [
    "# Finding the Roots of a Quadratic Equation x + 500 - 79 = 10\n",
    "x = 10 - 500 + 79\n",
    "print(x)"
   ]
  },
  {
   "attachments": {
    "image.png": {
     "image/png": "[encoded data removed]"
    }
   },
   "cell_type": "markdown",
   "metadata": {},
   "source": [
    "![image.png](attachment:image.png)"
   ]
  },
  {
   "cell_type": "code",
   "execution_count": null,
   "metadata": {},
   "outputs": [],
   "source": [
    "a = 1\n",
    "b = 2\n",
    "c = 1\n",
    "\n",
    "D = (b**2 - 4*a*c)** 0.5\n",
    "print(D)"
   ]
  },
  {
   "cell_type": "code",
   "execution_count": 10,
   "metadata": {},
   "outputs": [
    {
     "name": "stdout",
     "output_type": "stream",
     "text": [
      "Enter a: 1\n",
      "Enter b: 1\n",
      "Enter c: 1\n",
      "x_1: (-0.49999999999999994+0.8660254037844386j)\n",
      "x_2: (-0.5-0.8660254037844386j)\n"
     ]
    }
   ],
   "source": [
    "# Quadric equaation root calculator\n",
    "\n",
    "def roots(a, b, c):\n",
    "    \n",
    "    D = (b*b - 4*a*c)**0.5\n",
    "    x_1 = (-b + D)/(2*a)\n",
    "    x_2 = (-b - D)/(2*a)\n",
    "    \n",
    "    print('x_1: {0}'.format(x_1))\n",
    "    print('x_2: {0}'.format(x_2))\n",
    "\n",
    "if __name__ == '__main__':\n",
    "    a = input('Enter a: ')\n",
    "    b = input('Enter b: ')\n",
    "    c = input('Enter c: ')\n",
    "    roots(float(a), float(b), float(c))"
   ]
  },
  {
   "cell_type": "markdown",
   "metadata": {},
   "source": [
    "## Programing Challenges"
   ]
  },
  {
   "cell_type": "code",
   "execution_count": 46,
   "metadata": {},
   "outputs": [
    {
     "name": "stdout",
     "output_type": "stream",
     "text": [
      "masukan bilangan bulat: 0.2\n",
      "Tolong masukan bilangan bulat: \n"
     ]
    }
   ],
   "source": [
    "# Even-odd vending numbers    \n",
    "def ganjil_genap(nom):\n",
    "    if (nom % 2) == 0:\n",
    "        print('genap')\n",
    "    else:\n",
    "        print('ganjil')\n",
    "    count = 1\n",
    "    while count <= 9:\n",
    "        nom += 2\n",
    "        print(nom)\n",
    "#         penambahan baris nomor\n",
    "        count += 1\n",
    "    \n",
    "if __name__ == '__main__':\n",
    "    try:\n",
    "        nom = float(input('masukan bilangan bulat: '))\n",
    "        if nom.is_integer():\n",
    "            ganjil_genap(int(nom))\n",
    "        else:\n",
    "            print('Tolong masukan bilangan bulat: ')\n",
    "    except ValueError:\n",
    "        print('Tolong masukan bilangan!')"
   ]
  },
  {
   "cell_type": "code",
   "execution_count": 50,
   "metadata": {},
   "outputs": [
    {
     "name": "stdout",
     "output_type": "stream",
     "text": [
      "Silahkan Masukan angka: 2\n",
      "Silahkan masukan angka yang mau di kali: 0.5\n",
      "Angkanya harus bilangan bulat positif ok!\n"
     ]
    }
   ],
   "source": [
    "# Generator table perkalian\n",
    "\n",
    "def multi_table(a, n):\n",
    "    for i in range(1, n+1):\n",
    "        print(' {0}, x {1}, = {2}'.format(a, i, a*i))\n",
    "\n",
    "if __name__ == '__main__':\n",
    "    try:\n",
    "        a = float(input(\"Silahkan Masukan angka: \"))\n",
    "        n = float(input(\"Silahkan masukan angka yang mau di kali: \"))\n",
    "        if not n.is_integer() or n < 0:\n",
    "            print(\"Angkanya harus bilangan bulat positif ok!\")\n",
    "        \n",
    "        else:\n",
    "            multi_table(a, int(n))\n",
    "    except ValueError:\n",
    "        print('Kamu salah input angka !!! ')"
   ]
  },
  {
   "cell_type": "code",
   "execution_count": 53,
   "metadata": {},
   "outputs": [
    {
     "name": "stdout",
     "output_type": "stream",
     "text": [
      "1. Kilometer - Mile \n",
      "2. Mile - Kilometer \n",
      "3. Kilogram - Pounds \n",
      "4. Pound - Kilograms \n",
      "5. Celcius - Farenheit \n",
      "6. Farenheit - Celcius \n",
      "Hayo di pilih satuan yang anda mau? 1\n",
      "Masukan satuan kilometer: 20\n",
      "Jarak KM: 12.430080795525171\n"
     ]
    }
   ],
   "source": [
    "# konverter suhu, jarak dan berat\n",
    "\n",
    "def tampilan_menu():\n",
    "    print(\"1. Kilometer - Mile \")\n",
    "    print(\"2. Mile - Kilometer \")\n",
    "    print(\"3. Kilogram - Pounds \")\n",
    "    print(\"4. Pound - Kilograms \")\n",
    "    print(\"5. Celcius - Farenheit \")\n",
    "    print(\"6. Farenheit - Celcius \")\n",
    "\n",
    "def km_mile():\n",
    "    km = float(input(\"Masukan satuan kilometer: \"))\n",
    "    mile = km / 1.609\n",
    "    print(\"Jarak KM: {0}\".format(mile))\n",
    "\n",
    "def mile_km():\n",
    "    mile = float(input(\"Masukan satuan Mile: \"))\n",
    "    km = mile * 1.609\n",
    "    print(\"Jarak MIle: {0}\".formta(km))\n",
    "\n",
    "def kg_pn():\n",
    "    kg = float(input(\"Masukan satuan KG: \"))\n",
    "    pn = kg / 2.205\n",
    "    print(\"berat dari KG: {0}\".format(pn))\n",
    "\n",
    "def pn_kg():\n",
    "    pn = float(input(\"Masukan satuan Pound: \"))\n",
    "    kg = pn * 2.205\n",
    "    print(\"satuan dari Pound: {0}\".format(kg))\n",
    "\n",
    "def cel_farhen():\n",
    "    cel = float(input(\"Masukan Temperature Celcius: \"))\n",
    "    farhen = cel*(9 / 5) + 32\n",
    "    print(\"Temperature dari Celcius: {0}\".format(farhen))\n",
    "\n",
    "def farhen_cel():\n",
    "    farhen = float(input(\"Masukan Temperature Farenheit: \"))\n",
    "    cel = (farhen - 32) * (5/9)\n",
    "    print(\"Temperature dari FarenheitL {0}\".format(cel))\n",
    "\n",
    "if __name__ == '__main__':\n",
    "    tampilan_menu()\n",
    "    pilihan = input(\"Hayo di pilih satuan yang anda mau? \")\n",
    "    if pilihan == '1':\n",
    "        km_mile()\n",
    "    if pilihan == '2':\n",
    "        mile_km()\n",
    "    if pilihan == '3':\n",
    "        kg_pn()\n",
    "    if pilihan == '4':\n",
    "        pn_kg() \n",
    "    if pilihan == '5':\n",
    "        cel_farhen()\n",
    "    if pilihan == '6':\n",
    "        farhen_cel()\n"
   ]
  },
  {
   "cell_type": "code",
   "execution_count": 63,
   "metadata": {},
   "outputs": [
    {
     "name": "stdout",
     "output_type": "stream",
     "text": [
      "Masukan angka pechaan pertama: 2/3\n",
      "Masukan angka pecahan kedua: 4/5\n",
      "Pilih oprasi dan ketik: tambah, kurang, bagi dan kali: bagi\n",
      "Hasil Pembagian: dari 2/3 : 4/5 = 5/6\n",
      "Ketik yang ada di pilihan njirr!!!\n",
      "Apakah anda mau keluar ?  ketik(y) untuk keluar , ketik apa aja untuk lanjutk\n",
      "Masukan angka pechaan pertama: 2/3\n",
      "Masukan angka pecahan kedua: 4/3\n",
      "Pilih oprasi dan ketik: tambah, kurang, bagi dan kali: tambah\n",
      "Hasil Pertambahaan: dari 2/3 + 4/3 = 2\n",
      "Ketik yang ada di pilihan njirr!!!\n",
      "Apakah anda mau keluar ?  ketik(y) untuk keluar , ketik apa aja untuk lanjuty\n"
     ]
    }
   ],
   "source": [
    "# Pecahan kalkulator\n",
    "from fractions import Fraction\n",
    "\n",
    "def tambah(a, b):\n",
    "    print(\"Hasil Pertambahaan: dari {0} + {1} = {2}\".format(a, b, a+b))\n",
    "\n",
    "def kurang(a, b):\n",
    "    print(\"Hasil Pengurangan: dari {0} - {1} = {2}\".format(a, b, a-b))\n",
    "\n",
    "def bagi(a, b):\n",
    "    print(\"Hasil Pembagian: dari {0} : {1} = {2}\".format(a, b, a / b))\n",
    "\n",
    "def kali(a,b):\n",
    "    print(\"Hasil perkalian: dari {0} x {1} = {2} \".format(a, b, a * b))\n",
    "    \n",
    "\n",
    "if __name__ == '__main__':\n",
    "    while True:\n",
    "        try:\n",
    "            a = Fraction(input(\"Masukan angka pechaan pertama: \"))\n",
    "            b = Fraction(input(\"Masukan angka pecahan kedua: \"))\n",
    "            op = input(\"Pilih oprasi dan ketik: tambah, kurang, bagi dan kali: \")\n",
    "            if op == 'tambah':\n",
    "                tambah(a,b)\n",
    "            if op == 'kurang':\n",
    "                kurang(a,b)\n",
    "            if op == 'bagi':\n",
    "                bagi(a,b)\n",
    "            if op == 'kali':\n",
    "                kali(a,b)\n",
    "            else:\n",
    "                print(\"Ketik yang ada di pilihan njirr!!!\")\n",
    "        except ValueError:\n",
    "            print('Salah cuy bilang pecahan yang di ketik contoh: 1/2 gitu')\n",
    "        answer = input(\"Apakah anda mau keluar ?  ketik(y) untuk keluar , ketik apa aja untuk lanjut\")\n",
    "        if answer == 'y':\n",
    "            break\n",
    "    \n",
    "                       \n"
   ]
  },
  {
   "cell_type": "code",
   "execution_count": null,
   "metadata": {},
   "outputs": [],
   "source": []
  }
 ],
 "metadata": {
  "kernelspec": {
   "display_name": "Python 3",
   "language": "python",
   "name": "python3"
  },
  "language_info": {
   "codemirror_mode": {
    "name": "ipython",
    "version": 3
   },
   "file_extension": ".py",
   "mimetype": "text/x-python",
   "name": "python",
   "nbconvert_exporter": "python",
   "pygments_lexer": "ipython3",
   "version": "3.8.5"
  },
  "vscode": {
   "interpreter": {
    "hash": "38aeff9ba48f7e994d4888097cfc7477cf5cd6b5fe3b0aabd1391399df84e37f"
   }
  }
 },
 "nbformat": 4,
 "nbformat_minor": 2
}
